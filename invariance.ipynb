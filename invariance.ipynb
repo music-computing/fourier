{
 "cells": [
  {
   "cell_type": "markdown",
   "metadata": {},
   "source": [
    "# Workspace for Fourier Tasks\n",
    "[Click here for the source repository (redacted)](https://fake.url)"
   ]
  },
  {
   "cell_type": "code",
   "execution_count": 2,
   "metadata": {},
   "outputs": [],
   "source": [
    "import matplotlib.pyplot as plt\n",
    "import numpy as np\n",
    "from IPython.display import Markdown"
   ]
  },
  {
   "cell_type": "code",
   "execution_count": 4,
   "metadata": {},
   "outputs": [
    {
     "data": {
      "text/markdown": [
       "## Background\n",
       "\n",
       "The DFT magnitudes (spectrum) of a set\n",
       "are equivalent to that of the set's:\n",
       "- rotation (any step size) (= musical `transposition'),\n",
       "- mirror image (= musical `inversion'),\n",
       "- complement,\n",
       "- scalar multiple.\n",
       "\n",
       "\n",
       "## Task\n",
       "\n",
       "- Type: Implement\n",
       "- Task:\n",
       "  - Take any vector, such as the binary PCP vector for (the scale of) C major `[1, 0, 1, 0, 1, 1, 0, 1, 0, 0, 0, 1]`. \n",
       "  - Write a function to calculate the DFT of this set and demonstrate the various equivalences mentioned above:\n",
       "    1. First, make a new set by rotating the original (equivalent to musical transposition).\n",
       "       - Hint: index `0:m` and `m:n` and reverse, where $1 < m < n$. \n",
       "    2. Next reverse the set. Hint: `[::-1]`. \n",
       "    3. Then, take the complement. Hint: map 0 to 1 and 1 to 0.\n",
       "    4. Finally, proportionally increase the amplitudes, e.g., by replacing the 1s with 2s (double all the values). \n",
       "  - In each case, verify that the altered form returns the same absolute DFT values (again, magnitudes, not phase). \n",
       "  - Bonus: try your function on several different source sets and verify that they are _not_ equivalent to each other.\n",
       "- Reference implementation: `equivalence.equivalence_comparison()` \n",
       "  - The `operation` arguments are [\"rotate\", \"mirror\", \"multiply\", \"complement\"] (note: not repeat).\n"
      ],
      "text/plain": [
       "<IPython.core.display.Markdown object>"
      ]
     },
     "execution_count": 4,
     "metadata": {},
     "output_type": "execute_result"
    }
   ],
   "source": [
    "Markdown(\"./tasks/invariance.md\")"
   ]
  },
  {
   "cell_type": "markdown",
   "metadata": {},
   "source": [
    "## Workspace"
   ]
  },
  {
   "cell_type": "code",
   "execution_count": null,
   "metadata": {},
   "outputs": [],
   "source": []
  },
  {
   "cell_type": "code",
   "execution_count": null,
   "metadata": {},
   "outputs": [],
   "source": []
  },
  {
   "cell_type": "code",
   "execution_count": null,
   "metadata": {},
   "outputs": [],
   "source": []
  },
  {
   "cell_type": "markdown",
   "metadata": {},
   "source": [
    "## Reference"
   ]
  },
  {
   "cell_type": "code",
   "execution_count": 6,
   "metadata": {},
   "outputs": [
    {
     "data": {
      "text/markdown": [
       "- Reference implementations are provided in this repo.\n",
       "- The cells below show how to access implementations relevant to this session.\n",
       "\n",
       "How to use?\n",
       "- Try the task yourself in the workspace above, and then import the reference to compare answers.\n",
       "- If you're struggling, find the function named here in the source repo. to compare the approach."
      ],
      "text/plain": [
       "<IPython.core.display.Markdown object>"
      ]
     },
     "execution_count": 6,
     "metadata": {},
     "output_type": "execute_result"
    }
   ],
   "source": [
    "Markdown(\"./tasks/reference.md\")"
   ]
  },
  {
   "cell_type": "code",
   "execution_count": null,
   "metadata": {},
   "outputs": [],
   "source": [
    "from implementations import equivalence"
   ]
  },
  {
   "cell_type": "code",
   "execution_count": null,
   "metadata": {},
   "outputs": [],
   "source": []
  }
 ],
 "metadata": {
  "colab": {
   "provenance": []
  },
  "kernelspec": {
   "display_name": "Python 3 (ipykernel)",
   "language": "python",
   "name": "python3"
  },
  "language_info": {
   "codemirror_mode": {
    "name": "ipython",
    "version": 3
   },
   "file_extension": ".py",
   "mimetype": "text/x-python",
   "name": "python",
   "nbconvert_exporter": "python",
   "pygments_lexer": "ipython3",
   "version": "3.12.7"
  }
 },
 "nbformat": 4,
 "nbformat_minor": 4
}
