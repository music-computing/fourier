{
 "cells": [
  {
   "cell_type": "markdown",
   "metadata": {},
   "source": [
    "# Workspace for Fourier Tasks\n",
    "[Click here for the source repository (redacted)](https://fake.url)"
   ]
  },
  {
   "cell_type": "code",
   "execution_count": 2,
   "metadata": {},
   "outputs": [],
   "source": [
    "import matplotlib.pyplot as plt\n",
    "import numpy as np\n",
    "from IPython.display import Markdown"
   ]
  },
  {
   "cell_type": "code",
   "execution_count": 4,
   "metadata": {},
   "outputs": [
    {
     "data": {
      "text/markdown": [
       "## Background\n",
       "\n",
       "One common purpose of Fourier transforms is\n",
       "to isolate features of interest in the data.\n",
       "This will involve:\n",
       "1. either focusing on a _specific coefficient_ (one value of $k$)\n",
       "2. or considering the _magnitudes_ of coefficients in isolation (ignoring the phases).\n",
       "\n",
       "In the latter case (2.), we speak of the _spectrum_ of an input vector\n",
       "(such as a pitch-class or beat-class set)\n",
       "as the vector of magnitudes, $(|x_0|, |x_1|, \\dots, |x_{n-1}|)$.\n",
       "\n",
       "\n",
       "## Symmetry and redundancy\n",
       "\n",
       "We can generally ignore half of those coefficients,\n",
       "because the zeroth coefficient gives the cardinality of the set ...\n",
       "\n",
       "$$\n",
       "\\hat{x}_0 = \\sum_{j=0}^{n-1} x_j ,\n",
       "$$\n",
       "\n",
       "... and the rest of the coefficients have an 'aliasing' symmetry.\n",
       "\n",
       "$$\n",
       "\\hat{x}_{n-a} = \\overline{\\hat{x}}_a \n",
       "$$\n",
       "\n",
       "## Task\n",
       "\n",
       "- Type: Implement\n",
       "- Task:\n",
       "  - Take any profile, such as the binary PCP vector for (the scale of) C major `[1, 0, 1, 0, 1, 1, 0, 1, 0, 0, 0, 1]`.\n",
       "  - Plot this vector as a line graph.\n",
       "  - Compute DFT and plot the _spectra_ as a new line graph. Note the symmetry features described in the main text.\n",
       "- Bonus: Add a Boolean argument to show/hide the symmetrically equivalent parts.\n",
       "  - Hint: index from position 1 to $N/2$.\n",
       "- Reference implementations:\n",
       "  - `plot_spectra.compute_and_plot(hide_symmetry = True)`.\n",
       "  - `equivalence.equivalence_comparison(input_list, operation = \"mirror\")`.\n"
      ],
      "text/plain": [
       "<IPython.core.display.Markdown object>"
      ]
     },
     "execution_count": 4,
     "metadata": {},
     "output_type": "execute_result"
    }
   ],
   "source": [
    "Markdown(\"./tasks/symmetry.md\")"
   ]
  },
  {
   "cell_type": "markdown",
   "metadata": {},
   "source": [
    "## Workspace"
   ]
  },
  {
   "cell_type": "code",
   "execution_count": null,
   "metadata": {},
   "outputs": [],
   "source": []
  },
  {
   "cell_type": "code",
   "execution_count": null,
   "metadata": {},
   "outputs": [],
   "source": []
  },
  {
   "cell_type": "code",
   "execution_count": null,
   "metadata": {},
   "outputs": [],
   "source": []
  },
  {
   "cell_type": "markdown",
   "metadata": {},
   "source": [
    "## Reference"
   ]
  },
  {
   "cell_type": "code",
   "execution_count": 6,
   "metadata": {},
   "outputs": [
    {
     "data": {
      "text/markdown": [
       "- Reference implementations are provided in this repo.\n",
       "- The cells below show how to access implementations relevant to this session.\n",
       "\n",
       "How to use?\n",
       "- Try the task yourself in the workspace above, and then import the reference to compare answers.\n",
       "- If you're struggling, find the function named here in the source repo. to compare the approach."
      ],
      "text/plain": [
       "<IPython.core.display.Markdown object>"
      ]
     },
     "execution_count": 6,
     "metadata": {},
     "output_type": "execute_result"
    }
   ],
   "source": [
    "Markdown(\"./tasks/reference.md\")"
   ]
  },
  {
   "cell_type": "code",
   "execution_count": 8,
   "metadata": {},
   "outputs": [],
   "source": [
    "from implementations import plot_spectra, equivalence"
   ]
  },
  {
   "cell_type": "code",
   "execution_count": null,
   "metadata": {},
   "outputs": [],
   "source": []
  }
 ],
 "metadata": {
  "colab": {
   "provenance": []
  },
  "kernelspec": {
   "display_name": "Python 3 (ipykernel)",
   "language": "python",
   "name": "python3"
  },
  "language_info": {
   "codemirror_mode": {
    "name": "ipython",
    "version": 3
   },
   "file_extension": ".py",
   "mimetype": "text/x-python",
   "name": "python",
   "nbconvert_exporter": "python",
   "pygments_lexer": "ipython3",
   "version": "3.12.7"
  }
 },
 "nbformat": 4,
 "nbformat_minor": 4
}
