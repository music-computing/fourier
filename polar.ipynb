{
 "cells": [
  {
   "cell_type": "markdown",
   "metadata": {},
   "source": [
    "# Workspace for Fourier Tasks\n",
    "[Click here for the source repository (redacted)](https://fake.url)"
   ]
  },
  {
   "cell_type": "code",
   "execution_count": 1,
   "metadata": {},
   "outputs": [],
   "source": [
    "import matplotlib.pyplot as plt\n",
    "import numpy as np\n",
    "from IPython.display import Markdown"
   ]
  },
  {
   "cell_type": "code",
   "execution_count": 2,
   "metadata": {},
   "outputs": [
    {
     "data": {
      "text/markdown": [
       "## Background\n",
       "\n",
       "The complex plane has two axes:\n",
       "1. The $x$-axis represents the real numbers,\n",
       "2. The $y$-axis stands for the imaginary.\n",
       "\n",
       "Each DFT coefficient can be represented in this plane with the two axes for its real and imaginary parts.\n",
       "That's fine, though we are typically interested in the coefficient's\n",
       "**magnitude** (or 'absolute') value, and its **phase**.\n",
       "\n",
       "These can be calculated as follows:\n",
       "1. the magnitude is the distance from the origin, \n",
       "    calculated using the Pythagoras theorum as the hypotenuse of the triangle connecting the \n",
       "    origin, the position in the plane, and either axis:\n",
       "    $\\sqrt{real^2 + complex^2}$.\n",
       "2. the phase is given by the angle (in radians) of that line from the x-axis.\n",
       "\n",
       "The \"polar coordinates\" of the coefficient encode this magnitude-phase pair.\n",
       "\n",
       "\n",
       "## Task\n",
       "\n",
       "- Type: Implement\n",
       "- Task: Write a function to convert DFT to polar.\n",
       "- Hint: Useful libraries include cmath (`cmath.polar()`) or numpy (`np.ads` and `np.phase`).\n",
       "- Bonus: Do it from scratch without those libraries!\n",
       "- Bonus: Produce a polar plot of a single complex number on the complex plane using `plt.polar`.\n",
       "- Reference: `polar.{dft_to_polar_with_cmath | dft_to_polar_with_numpy | one_cartesian_to_polar}` \n"
      ],
      "text/plain": [
       "<IPython.core.display.Markdown object>"
      ]
     },
     "execution_count": 2,
     "metadata": {},
     "output_type": "execute_result"
    }
   ],
   "source": [
    "Markdown(\"./tasks/polar.md\")"
   ]
  },
  {
   "cell_type": "markdown",
   "metadata": {},
   "source": [
    "## Workspace"
   ]
  },
  {
   "cell_type": "code",
   "execution_count": null,
   "metadata": {},
   "outputs": [],
   "source": []
  },
  {
   "cell_type": "code",
   "execution_count": null,
   "metadata": {},
   "outputs": [],
   "source": []
  },
  {
   "cell_type": "code",
   "execution_count": null,
   "metadata": {},
   "outputs": [],
   "source": []
  },
  {
   "cell_type": "markdown",
   "metadata": {},
   "source": [
    "## Reference"
   ]
  },
  {
   "cell_type": "code",
   "execution_count": 5,
   "metadata": {},
   "outputs": [
    {
     "data": {
      "text/markdown": [
       "- Reference implementations are provided in this repo.\n",
       "- The cells below show how to access implementations relevant to this session.\n",
       "\n",
       "How to use?\n",
       "- Try the task yourself in the workspace above, and then import the reference to compare answers.\n",
       "- If you're struggling, find the function named here in the source repo. to compare the approach."
      ],
      "text/plain": [
       "<IPython.core.display.Markdown object>"
      ]
     },
     "execution_count": 5,
     "metadata": {},
     "output_type": "execute_result"
    }
   ],
   "source": [
    "Markdown(\"./tasks/reference.md\")"
   ]
  },
  {
   "cell_type": "code",
   "execution_count": null,
   "metadata": {},
   "outputs": [],
   "source": [
    "from implementations import polar"
   ]
  },
  {
   "cell_type": "code",
   "execution_count": null,
   "metadata": {},
   "outputs": [],
   "source": []
  }
 ],
 "metadata": {
  "colab": {
   "provenance": []
  },
  "kernelspec": {
   "display_name": "Python 3 (ipykernel)",
   "language": "python",
   "name": "python3"
  },
  "language_info": {
   "codemirror_mode": {
    "name": "ipython",
    "version": 3
   },
   "file_extension": ".py",
   "mimetype": "text/x-python",
   "name": "python",
   "nbconvert_exporter": "python",
   "pygments_lexer": "ipython3",
   "version": "3.12.7"
  }
 },
 "nbformat": 4,
 "nbformat_minor": 4
}
